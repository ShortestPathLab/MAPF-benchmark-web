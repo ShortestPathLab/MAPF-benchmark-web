{
 "cells": [
  {
   "cell_type": "code",
   "execution_count": 1,
   "id": "2b5aec10",
   "metadata": {},
   "outputs": [],
   "source": [
    "import sys\n",
    "sys.path.append('/usr/local/lib/python3.8/site-packages')\n",
    "import os\n",
    "import pandas as pd\n",
    "import numpy as np\n",
    "# import seaborn as sns\n",
    "from utilities import* \n",
    "from pandas import read_excel\n",
    "from matplotlib import pyplot as plt\n",
    "plt.rc('pdf',fonttype = 42)\n",
    "plt.rc('ps',fonttype = 42)\n",
    "import matplotlib.image as mpimg\n",
    "from matplotlib.offsetbox import OffsetImage,AnchoredOffsetbox\n",
    "from matplotlib import rc, rcParams\n",
    "rc('font', weight='bold')\n",
    "%load_ext autoreload\n",
    "%autoreload 2\n",
    "%matplotlib inline\n",
    "import pymongo\n",
    "from pymongo import MongoClient\n",
    "from pymongo import InsertOne, DeleteMany, ReplaceOne, UpdateOne\n",
    "from os import listdir\n",
    "from os.path import isfile, join\n",
    "import datetime\n",
    "from pprint import pprint"
   ]
  },
  {
   "cell_type": "code",
   "execution_count": 12,
   "id": "dd834fba",
   "metadata": {},
   "outputs": [
    {
     "name": "stdout",
     "output_type": "stream",
     "text": [
      "Connect successfully\n"
     ]
    }
   ],
   "source": [
    "url = \"mongodb://localhost:27017/\"\n",
    "client = pymongo.MongoClient(url)\n",
    "db = client['MAPF_V2']\n",
    "print(\"Connect successfully\")\n",
    "cursor = db.maps.find({})\n",
    "for document in cursor:\n",
    "    new_field = {'original_link': 'https://movingai.com/benchmarks/mapf/index.html',\n",
    "                 'papers': 'Roni Stern, Nathan Sturtevant, Ariel Felner, Sven Koenig, Hang Ma, Thayne Walker, Jiaoyang Li et al. \"Multi-agent pathfinding: Definitions, variants, and benchmarks.\" In Proceedings of the International Symposium on Combinatorial Search (SoCS), 2019.'}\n",
    "    query = {'_id': document['_id']}\n",
    "#     pprint(query)\n",
    "    db.maps.update_one(query, {'$unset': {'paper': 1}})\n",
    "    update_result = db.maps.update_one(query, {'$set': new_field})"
   ]
  },
  {
   "cell_type": "code",
   "execution_count": 16,
   "id": "28d2f7cb",
   "metadata": {},
   "outputs": [
    {
     "name": "stdout",
     "output_type": "stream",
     "text": [
      "Connect successfully\n",
      "{'comments': '', 'user_id': ObjectId('639696e06a9f2e8acfa37b17')}\n",
      "{'comments': '',\n",
      " 'papers': 'Bojie Shen, Zhe Chen, Jiaoyang Li, Muhammad Aamir Cheema, Daniel '\n",
      "           'D. Harabor, and Peter J. Stuckey. \"Beyond Pairwise Reasoning in '\n",
      "           'Multi-Agent Path Finding.\" In Proceedings of the International '\n",
      "           'Conference on Automated Planning and Scheduling (ICAPS), 2023.',\n",
      " 'user_id': ObjectId('639696e06a9f2e8acfa37b17')}\n",
      "{'comments': '', 'user_id': ObjectId('639696e06a9f2e8acfa37b17')}\n",
      "{'comments': '', 'user_id': ObjectId('639696e06a9f2e8acfa37b17')}\n",
      "{'comments': '', 'user_id': ObjectId('639696e06a9f2e8acfa37b17')}\n",
      "{'comments': '', 'user_id': ObjectId('639696e06a9f2e8acfa37b17')}\n",
      "{'comments': '', 'user_id': ObjectId('639696e06a9f2e8acfa37b17')}\n"
     ]
    }
   ],
   "source": [
    "url = \"mongodb://localhost:27017/\"\n",
    "client = pymongo.MongoClient(url)\n",
    "db = client['MAPF_V2']\n",
    "print(\"Connect successfully\")\n",
    "user = db.users.find({\"username\":\"admin\"})\n",
    "user_id = user[0]['_id']\n",
    "cursor = db.algorithms.find({})\n",
    "for document in cursor:\n",
    "    if(document['algo_name'] == 'CBSH2-RTC-CHBP'):\n",
    "        new_field = {'comments': '','user_id':user_id, 'papers':'Bojie Shen, Zhe Chen, Jiaoyang Li, Muhammad Aamir Cheema, Daniel D. Harabor, and Peter J. Stuckey. \"Beyond Pairwise Reasoning in Multi-Agent Path Finding.\" In Proceedings of the International Conference on Automated Planning and Scheduling (ICAPS), 2023.'}\n",
    "    else:\n",
    "        new_field = {'comments': '','user_id':user_id}\n",
    "    query = {'_id': document['_id']}\n",
    "    update_result = db.algorithms.update_one(query, {'$set': new_field})\n"
   ]
  }
 ],
 "metadata": {
  "kernelspec": {
   "display_name": "Python 3 (ipykernel)",
   "language": "python",
   "name": "python3"
  },
  "language_info": {
   "codemirror_mode": {
    "name": "ipython",
    "version": 3
   },
   "file_extension": ".py",
   "mimetype": "text/x-python",
   "name": "python",
   "nbconvert_exporter": "python",
   "pygments_lexer": "ipython3",
   "version": "3.9.15"
  }
 },
 "nbformat": 4,
 "nbformat_minor": 5
}
